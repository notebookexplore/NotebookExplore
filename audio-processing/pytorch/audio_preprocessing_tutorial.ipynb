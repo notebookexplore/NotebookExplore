{
  "nbformat": 4,
  "nbformat_minor": 0,
  "metadata": {
    "kernelspec": {
      "display_name": "Python 3",
      "language": "python",
      "name": "python3"
    },
    "language_info": {
      "codemirror_mode": {
        "name": "ipython",
        "version": 3
      },
      "file_extension": ".py",
      "mimetype": "text/x-python",
      "name": "python",
      "nbconvert_exporter": "python",
      "pygments_lexer": "ipython3",
      "version": "3.6.8"
    },
    "colab": {
      "name": "audio_preprocessing_tutorial.ipynb",
      "provenance": []
    }
  },
  "cells": [
    {
      "cell_type": "markdown",
      "metadata": {
        "id": "Ejys4qb9K4yp",
        "colab_type": "text"
      },
      "source": [
        "<table class=\"tfo-notebook-buttons\" align=\"center\">\n",
        "  <td>\n",
        "    <a\n",
        "      target=\"_blank\"\n",
        "      href=\"https://colab.research.google.com/github/notebookexplore/notebookexplore/blob/master/audio-processing/pytorch/audio_processing_tutorial.ipynb\"\n",
        "      ><img src=\"https://www.tensorflow.org/images/colab_logo_32px.png\" />Run\n",
        "      in Google Colab</a\n",
        "    >\n",
        "  </td>\n",
        "  <td>\n",
        "    <a\n",
        "      target=\"_blank\"\n",
        "      href=\"https://github.com/notebookexplore/notebookexplore/blob/master/audio-processing/pytorch/audio_processing_tutorial.ipynb\"\n",
        "      ><img\n",
        "        src=\"https://www.tensorflow.org/images/GitHub-Mark-32px.png\"\n",
        "      />View source on GitHub</a\n",
        "    >\n",
        "  </td>\n",
        "</table>"
      ]
    },
    {
      "cell_type": "code",
      "metadata": {
        "id": "U8adtjNkog1-",
        "colab_type": "code",
        "colab": {}
      },
      "source": [
        "!pip install torch>=1.2.0\n",
        "!pip install torchaudio\n",
        "%matplotlib inline"
      ],
      "execution_count": 0,
      "outputs": []
    },
    {
      "cell_type": "markdown",
      "metadata": {
        "id": "oHpAbYz2og2G",
        "colab_type": "text"
      },
      "source": [
        "\n",
        "torchaudio Tutorial\n",
        "===================\n",
        "\n",
        "PyTorch is an open source deep learning platform that provides a\n",
        "seamless path from research prototyping to production deployment with\n",
        "GPU support.\n",
        "\n",
        "Significant effort in solving machine learning problems goes into data\n",
        "preparation. torchaudio leverages PyTorch’s GPU support, and provides\n",
        "many tools to make data loading easy and more readable. In this\n",
        "tutorial, we will see how to load and preprocess data from a simple\n",
        "dataset.\n",
        "\n",
        "For this tutorial, please make sure the ``matplotlib`` package is\n",
        "installed for easier visualization.\n",
        "\n",
        "\n"
      ]
    },
    {
      "cell_type": "code",
      "metadata": {
        "id": "AFPA4DPUog2I",
        "colab_type": "code",
        "colab": {}
      },
      "source": [
        "import torch\n",
        "import torchaudio\n",
        "import matplotlib.pyplot as plt"
      ],
      "execution_count": 0,
      "outputs": []
    },
    {
      "cell_type": "markdown",
      "metadata": {
        "id": "4HhXSHmGog2P",
        "colab_type": "text"
      },
      "source": [
        "Opening a dataset\n",
        "-----------------\n",
        "\n",
        "\n"
      ]
    },
    {
      "cell_type": "markdown",
      "metadata": {
        "id": "QEbIBsDFog2R",
        "colab_type": "text"
      },
      "source": [
        "torchaudio supports loading sound files in the wav and mp3 format. We\n",
        "call waveform the resulting raw audio signal.\n",
        "\n",
        "\n"
      ]
    },
    {
      "cell_type": "code",
      "metadata": {
        "id": "Uh7cF3wnog2S",
        "colab_type": "code",
        "colab": {}
      },
      "source": [
        "import requests\n",
        "\n",
        "url = \"https://pytorch.org/tutorials//_static/img/steam-train-whistle-daniel_simon-converted-from-mp3.wav\"\n",
        "r = requests.get(url)\n",
        "\n",
        "with open('steam-train-whistle-daniel_simon-converted-from-mp3.wav', 'wb') as f:\n",
        "    f.write(r.content)\n",
        "\n",
        "filename = \"steam-train-whistle-daniel_simon-converted-from-mp3.wav\"\n",
        "waveform, sample_rate = torchaudio.load(filename)\n",
        "\n",
        "print(\"Shape of waveform: {}\".format(waveform.size()))\n",
        "print(\"Sample rate of waveform: {}\".format(sample_rate))\n",
        "\n",
        "plt.figure()\n",
        "plt.plot(waveform.t().numpy())"
      ],
      "execution_count": 0,
      "outputs": []
    },
    {
      "cell_type": "markdown",
      "metadata": {
        "id": "sLxzNge9og2X",
        "colab_type": "text"
      },
      "source": [
        "Transformations\n",
        "---------------\n",
        "\n",
        "torchaudio supports a growing list of\n",
        "`transformations <https://pytorch.org/audio/transforms.html>`_.\n",
        "\n",
        "-  **Resample**: Resample waveform to a different sample rate.\n",
        "-  **Spectrogram**: Create a spectrogram from a waveform.\n",
        "-  **MelScale**: This turns a normal STFT into a Mel-frequency STFT,\n",
        "   using a conversion matrix.\n",
        "-  **AmplitudeToDB**: This turns a spectrogram from the\n",
        "   power/amplitude scale to the decibel scale.\n",
        "-  **MFCC**: Create the Mel-frequency cepstrum coefficients from a\n",
        "   waveform.\n",
        "-  **MelSpectrogram**: Create MEL Spectrograms from a waveform using the\n",
        "   STFT function in PyTorch.\n",
        "-  **MuLawEncoding**: Encode waveform based on mu-law companding.\n",
        "-  **MuLawDecoding**: Decode mu-law encoded waveform.\n",
        "\n",
        "Since all transforms are nn.Modules or jit.ScriptModules, they can be\n",
        "used as part of a neural network at any point.\n",
        "\n",
        "\n"
      ]
    },
    {
      "cell_type": "markdown",
      "metadata": {
        "id": "JLoCOqHvog2Z",
        "colab_type": "text"
      },
      "source": [
        "To start, we can look at the log of the spectrogram on a log scale.\n",
        "\n",
        "\n"
      ]
    },
    {
      "cell_type": "code",
      "metadata": {
        "id": "T-JJqufHog2a",
        "colab_type": "code",
        "colab": {}
      },
      "source": [
        "specgram = torchaudio.transforms.Spectrogram()(waveform)\n",
        "\n",
        "print(\"Shape of spectrogram: {}\".format(specgram.size()))\n",
        "\n",
        "plt.figure()\n",
        "plt.imshow(specgram.log2()[0,:,:].numpy(), cmap='gray')"
      ],
      "execution_count": 0,
      "outputs": []
    },
    {
      "cell_type": "markdown",
      "metadata": {
        "id": "LTshMbr9og2i",
        "colab_type": "text"
      },
      "source": [
        "Or we can look at the Mel Spectrogram on a log scale.\n",
        "\n",
        "\n"
      ]
    },
    {
      "cell_type": "code",
      "metadata": {
        "id": "tL_b8Oa5og2j",
        "colab_type": "code",
        "colab": {}
      },
      "source": [
        "specgram = torchaudio.transforms.MelSpectrogram()(waveform)\n",
        "\n",
        "print(\"Shape of spectrogram: {}\".format(specgram.size()))\n",
        "\n",
        "plt.figure()\n",
        "p = plt.imshow(specgram.log2()[0,:,:].detach().numpy(), cmap='gray')"
      ],
      "execution_count": 0,
      "outputs": []
    },
    {
      "cell_type": "markdown",
      "metadata": {
        "id": "0GNui3v-og2n",
        "colab_type": "text"
      },
      "source": [
        "We can resample the waveform, one channel at a time.\n",
        "\n",
        "\n"
      ]
    },
    {
      "cell_type": "code",
      "metadata": {
        "id": "1eHZFUR8og2p",
        "colab_type": "code",
        "colab": {}
      },
      "source": [
        "new_sample_rate = sample_rate/10\n",
        "\n",
        "# Since Resample applies to a single channel, we resample first channel here\n",
        "channel = 0\n",
        "transformed = torchaudio.transforms.Resample(sample_rate, new_sample_rate)(waveform[channel,:].view(1,-1))\n",
        "\n",
        "print(\"Shape of transformed waveform: {}\".format(transformed.size()))\n",
        "\n",
        "plt.figure()\n",
        "plt.plot(transformed[0,:].numpy())"
      ],
      "execution_count": 0,
      "outputs": []
    },
    {
      "cell_type": "markdown",
      "metadata": {
        "id": "1mT305QXog2s",
        "colab_type": "text"
      },
      "source": [
        "As another example of transformations, we can encode the signal based on\n",
        "Mu-Law enconding. But to do so, we need the signal to be between -1 and\n",
        "1. Since the tensor is just a regular PyTorch tensor, we can apply\n",
        "standard operators on it.\n",
        "\n",
        "\n"
      ]
    },
    {
      "cell_type": "code",
      "metadata": {
        "id": "o5hJAVEnog2u",
        "colab_type": "code",
        "colab": {}
      },
      "source": [
        "# Let's check if the tensor is in the interval [-1,1]\n",
        "print(\"Min of waveform: {}\\nMax of waveform: {}\\nMean of waveform: {}\".format(waveform.min(), waveform.max(), waveform.mean()))"
      ],
      "execution_count": 0,
      "outputs": []
    },
    {
      "cell_type": "markdown",
      "metadata": {
        "id": "vlk9qo4Rog2y",
        "colab_type": "text"
      },
      "source": [
        "Since the waveform is already between -1 and 1, we do not need to\n",
        "normalize it.\n",
        "\n",
        "\n"
      ]
    },
    {
      "cell_type": "code",
      "metadata": {
        "id": "TI3yBBSGog2z",
        "colab_type": "code",
        "colab": {}
      },
      "source": [
        "def normalize(tensor):\n",
        "    # Subtract the mean, and scale to the interval [-1,1]\n",
        "    tensor_minusmean = tensor - tensor.mean()\n",
        "    return tensor_minusmean/tensor_minusmean.abs().max()\n",
        "\n",
        "# Let's normalize to the full interval [-1,1]\n",
        "# waveform = normalize(waveform)"
      ],
      "execution_count": 0,
      "outputs": []
    },
    {
      "cell_type": "markdown",
      "metadata": {
        "id": "3Yu7ubXZog22",
        "colab_type": "text"
      },
      "source": [
        "Let’s apply encode the waveform.\n",
        "\n",
        "\n"
      ]
    },
    {
      "cell_type": "code",
      "metadata": {
        "id": "qjytiCNYog23",
        "colab_type": "code",
        "colab": {}
      },
      "source": [
        "transformed = torchaudio.transforms.MuLawEncoding()(waveform)\n",
        "\n",
        "print(\"Shape of transformed waveform: {}\".format(transformed.size()))\n",
        "\n",
        "plt.figure()\n",
        "plt.plot(transformed[0,:].numpy())"
      ],
      "execution_count": 0,
      "outputs": []
    },
    {
      "cell_type": "markdown",
      "metadata": {
        "id": "pgApI-D6og27",
        "colab_type": "text"
      },
      "source": [
        "And now decode.\n",
        "\n",
        "\n"
      ]
    },
    {
      "cell_type": "code",
      "metadata": {
        "id": "Ciijz1Kgog28",
        "colab_type": "code",
        "colab": {}
      },
      "source": [
        "reconstructed = torchaudio.transforms.MuLawDecoding()(transformed)\n",
        "\n",
        "print(\"Shape of recovered waveform: {}\".format(reconstructed.size()))\n",
        "\n",
        "plt.figure()\n",
        "plt.plot(reconstructed[0,:].numpy())"
      ],
      "execution_count": 0,
      "outputs": []
    },
    {
      "cell_type": "markdown",
      "metadata": {
        "id": "fyJ02hGMog3C",
        "colab_type": "text"
      },
      "source": [
        "We can finally compare the original waveform with its reconstructed\n",
        "version.\n",
        "\n",
        "\n"
      ]
    },
    {
      "cell_type": "code",
      "metadata": {
        "id": "4B6pyGd5og3D",
        "colab_type": "code",
        "colab": {}
      },
      "source": [
        "# Compute median relative difference\n",
        "err = ((waveform-reconstructed).abs() / waveform.abs()).median()\n",
        "\n",
        "print(\"Median relative difference between original and MuLaw reconstucted signals: {:.2%}\".format(err))"
      ],
      "execution_count": 0,
      "outputs": []
    },
    {
      "cell_type": "markdown",
      "metadata": {
        "id": "ayNUB_keog3H",
        "colab_type": "text"
      },
      "source": [
        "Migrating to torchaudio from Kaldi\n",
        "----------------------------------\n",
        "\n",
        "Users may be familiar with\n",
        "`Kaldi <http://github.com/kaldi-asr/kaldi>`_, a toolkit for speech\n",
        "recognition. torchaudio offers compatibility with it in\n",
        "``torchaudio.kaldi_io``. It can indeed read from kaldi scp, or ark file\n",
        "or streams with:\n",
        "\n",
        "-  read_vec_int_ark\n",
        "-  read_vec_flt_scp\n",
        "-  read_vec_flt_arkfile/stream\n",
        "-  read_mat_scp\n",
        "-  read_mat_ark\n",
        "\n",
        "torchaudio provides Kaldi-compatible transforms for ``spectrogram`` and\n",
        "``fbank`` with the benefit of GPU support, see\n",
        "`here <compliance.kaldi.html>`__ for more information.\n",
        "\n",
        "\n"
      ]
    },
    {
      "cell_type": "code",
      "metadata": {
        "id": "NiSS8s10og3I",
        "colab_type": "code",
        "colab": {}
      },
      "source": [
        "n_fft = 400.0\n",
        "frame_length = n_fft / sample_rate * 1000.0\n",
        "frame_shift = frame_length / 2.0\n",
        "\n",
        "params = {\n",
        "    \"channel\": 0,\n",
        "    \"dither\": 0.0,\n",
        "    \"window_type\": \"hanning\",\n",
        "    \"frame_length\": frame_length,\n",
        "    \"frame_shift\": frame_shift,\n",
        "    \"remove_dc_offset\": False,\n",
        "    \"round_to_power_of_two\": False,\n",
        "    \"sample_frequency\": sample_rate,\n",
        "}\n",
        "\n",
        "specgram = torchaudio.compliance.kaldi.spectrogram(waveform, **params)\n",
        "\n",
        "print(\"Shape of spectrogram: {}\".format(specgram.size()))\n",
        "\n",
        "plt.figure()\n",
        "plt.imshow(specgram.t().numpy(), cmap='gray')"
      ],
      "execution_count": 0,
      "outputs": []
    },
    {
      "cell_type": "markdown",
      "metadata": {
        "id": "v5DauoCqog3M",
        "colab_type": "text"
      },
      "source": [
        "We also support computing the filterbank features from waveforms,\n",
        "matching Kaldi’s implementation.\n",
        "\n",
        "\n"
      ]
    },
    {
      "cell_type": "code",
      "metadata": {
        "id": "ONLSeJfIog3N",
        "colab_type": "code",
        "colab": {}
      },
      "source": [
        "fbank = torchaudio.compliance.kaldi.fbank(waveform, **params)\n",
        "\n",
        "print(\"Shape of fbank: {}\".format(fbank.size()))\n",
        "\n",
        "plt.figure()\n",
        "plt.imshow(fbank.t().numpy(), cmap='gray')"
      ],
      "execution_count": 0,
      "outputs": []
    },
    {
      "cell_type": "markdown",
      "metadata": {
        "id": "BX519cRTog3S",
        "colab_type": "text"
      },
      "source": [
        "Conclusion\n",
        "----------\n",
        "\n",
        "We used an example raw audio signal, or waveform, to illustrate how to\n",
        "open an audio file using torchaudio, and how to pre-process and\n",
        "transform such waveform. Given that torchaudio is built on PyTorch,\n",
        "these techniques can be used as building blocks for more advanced audio\n",
        "applications, such as speech recognition, while leveraging GPUs.\n",
        "\n",
        "\n"
      ]
    }
  ]
}